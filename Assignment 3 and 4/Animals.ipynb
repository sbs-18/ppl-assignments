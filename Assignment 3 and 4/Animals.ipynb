{
 "cells": [
  {
   "cell_type": "code",
   "execution_count": 1,
   "metadata": {},
   "outputs": [],
   "source": [
    "class Animal:\n",
    "    def __init__(self):\n",
    "        pass\n",
    "    def create(self):\n",
    "        print(\"Animal Created!\")"
   ]
  },
  {
   "cell_type": "code",
   "execution_count": 3,
   "metadata": {},
   "outputs": [],
   "source": [
    "class Herbivore(Animal):\n",
    "    def __init__(self):\n",
    "        self.__species=\"mammal\"\n",
    "    def eats(self,typ):\n",
    "        print(typ+\" eats grass\")\n",
    "    "
   ]
  },
  {
   "cell_type": "code",
   "execution_count": 4,
   "metadata": {},
   "outputs": [],
   "source": [
    "class Cow(Herbivore):\n",
    "    def __init__(self):\n",
    "        Herbivore.__init__(self)\n",
    "        self.eats(\"Cow\")\n",
    "    def sound(self):\n",
    "        print(\"Cow moos\")\n",
    "    "
   ]
  },
  {
   "cell_type": "code",
   "execution_count": 5,
   "metadata": {},
   "outputs": [],
   "source": [
    "class Horse(Herbivore):\n",
    "    def __init__(self):\n",
    "        Herbivore.__init__(self)\n",
    "        self.eats(\"Horse\")\n",
    "    def sound(self):\n",
    "        print(\"Horse Neighs\")"
   ]
  },
  {
   "cell_type": "code",
   "execution_count": 6,
   "metadata": {},
   "outputs": [],
   "source": [
    "class Goat(Herbivore):\n",
    "    def __init__(self):\n",
    "        Herbivore.__init__(self)\n",
    "        self.eats(\"Goat\")\n",
    "    def sound(self):\n",
    "        print(\"Goat bleats\")"
   ]
  },
  {
   "cell_type": "code",
   "execution_count": 7,
   "metadata": {},
   "outputs": [],
   "source": [
    "class Donkey(Herbivore):\n",
    "    def __init__(self):\n",
    "        Herbivore.__init__(self)\n",
    "        self.eats(\"Donkey\")\n",
    "    def sound(self):\n",
    "        print(\"Donkey Hee-Haws\")"
   ]
  },
  {
   "cell_type": "code",
   "execution_count": 17,
   "metadata": {},
   "outputs": [],
   "source": [
    "class Carnivore(Animal):\n",
    "    def __init__(self):\n",
    "        self.__species=\"mammal\"\n",
    "    def eats(self,typ):\n",
    "        print(typ+\" eats meat\")\n",
    "    "
   ]
  },
  {
   "cell_type": "code",
   "execution_count": 18,
   "metadata": {},
   "outputs": [],
   "source": [
    "class Lion(Carnivore):\n",
    "    def __init__(self):\n",
    "        Carnivore.__init__(self)\n",
    "        self.eats(\"Lion\")\n",
    "    def sound(self):\n",
    "        print(\"Lion roars\")"
   ]
  },
  {
   "cell_type": "code",
   "execution_count": 19,
   "metadata": {},
   "outputs": [],
   "source": [
    "class Tiger(Carnivore):\n",
    "    def __init__(self):\n",
    "        Carnivore.__init__(self)\n",
    "        self.eats(\"Tiger\")\n",
    "    def sound(self):\n",
    "        print(\"Tiger roars\")"
   ]
  },
  {
   "cell_type": "code",
   "execution_count": 20,
   "metadata": {},
   "outputs": [],
   "source": [
    "class Leopard(Carnivore):\n",
    "    def __init__(self):\n",
    "        Carnivore.__init__(self)\n",
    "        self.eats(\"Leopard\")\n",
    "    def sound(self):\n",
    "        print(\"Leopard screeches\")"
   ]
  },
  {
   "cell_type": "code",
   "execution_count": 21,
   "metadata": {},
   "outputs": [],
   "source": [
    "class Hyena(Carnivore):\n",
    "    def __init__(self):\n",
    "        Carnivore.__init__(self)\n",
    "        self.eats(\"Hyena\")\n",
    "    def sound(self):\n",
    "        print(\"Hyena screeches\")"
   ]
  },
  {
   "cell_type": "code",
   "execution_count": 22,
   "metadata": {},
   "outputs": [
    {
     "name": "stdout",
     "output_type": "stream",
     "text": [
      "Lion eats meat\n"
     ]
    }
   ],
   "source": [
    "l = Lion()"
   ]
  },
  {
   "cell_type": "code",
   "execution_count": 23,
   "metadata": {},
   "outputs": [
    {
     "name": "stdout",
     "output_type": "stream",
     "text": [
      "Lion roars\n"
     ]
    }
   ],
   "source": [
    "l.sound()"
   ]
  },
  {
   "cell_type": "code",
   "execution_count": null,
   "metadata": {},
   "outputs": [],
   "source": []
  },
  {
   "cell_type": "code",
   "execution_count": null,
   "metadata": {},
   "outputs": [],
   "source": []
  }
 ],
 "metadata": {
  "kernelspec": {
   "display_name": "Python 3",
   "language": "python",
   "name": "python3"
  },
  "language_info": {
   "codemirror_mode": {
    "name": "ipython",
    "version": 3
   },
   "file_extension": ".py",
   "mimetype": "text/x-python",
   "name": "python",
   "nbconvert_exporter": "python",
   "pygments_lexer": "ipython3",
   "version": "3.7.0"
  }
 },
 "nbformat": 4,
 "nbformat_minor": 2
}
